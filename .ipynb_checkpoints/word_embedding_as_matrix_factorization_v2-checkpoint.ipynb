{
 "cells": [
  {
   "cell_type": "markdown",
   "metadata": {},
   "source": [
    "## Generate Word Vectors\n",
    "- [Neural Word Embedding as Implicit Matrix Factorization](http://u.cs.biu.ac.il/~nlp/wp-content/uploads/Neural-Word-Embeddings-as-Implicit-Matrix-Factorization-NIPS-2014.pdf)\n",
    "- [text8 data](http://mattmahoney.net/dc/text8.zip)\n",
    "- [wordsim353](http://www.cs.technion.ac.il/~gabr/resources/data/wordsim353/)\n",
    "- [MEN Test collection](http://clic.cimec.unitn.it/~elia.bruni/MEN)"
   ]
  },
  {
   "cell_type": "code",
   "execution_count": 33,
   "metadata": {
    "collapsed": true
   },
   "outputs": [],
   "source": [
    "import numpy as np\n",
    "import re\n",
    "from scipy import sparse\n",
    "import joblib\n",
    "from collections import Counter\n",
    "import matplotlib.pyplot as plt"
   ]
  },
  {
   "cell_type": "code",
   "execution_count": 34,
   "metadata": {
    "collapsed": true
   },
   "outputs": [],
   "source": [
    "%matplotlib inline"
   ]
  },
  {
   "cell_type": "code",
   "execution_count": 176,
   "metadata": {
    "collapsed": true
   },
   "outputs": [],
   "source": [
    "## parameters\n",
    "WC_THR = 150\n",
    "CC_THR = 6\n",
    "window = 2\n",
    "nnegative = 1."
   ]
  },
  {
   "cell_type": "code",
   "execution_count": 177,
   "metadata": {
    "collapsed": false
   },
   "outputs": [
    {
     "name": "stdout",
     "output_type": "stream",
     "text": [
      "CPU times: user 3.25 s, sys: 189 ms, total: 3.44 s\n",
      "Wall time: 3.44 s\n",
      "17005207\n"
     ]
    }
   ],
   "source": [
    "corpus = open(\"data/text8\").read()\n",
    "pat = re.compile(\"\\w+\")\n",
    "%time words = pat.findall(corpus)\n",
    "print len(words)"
   ]
  },
  {
   "cell_type": "code",
   "execution_count": 178,
   "metadata": {
    "collapsed": false
   },
   "outputs": [
    {
     "name": "stdout",
     "output_type": "stream",
     "text": [
      "CPU times: user 4.8 s, sys: 446 ms, total: 5.25 s\n",
      "Wall time: 5.21 s\n",
      "0.0348586195215 % words are retained\n",
      "CPU times: user 24.3 s, sys: 1.7 s, total: 26 s\n",
      "Wall time: 25.9 s\n",
      "0.000595954339486 % contexts are retained\n"
     ]
    }
   ],
   "source": [
    "%time total_word_counter = Counter(words)\n",
    "\n",
    "freq_words = set([w for w,c in total_word_counter.items() if c >= WC_THR])\n",
    "print len(freq_words) *1. / len(total_word_counter), \"% words are retained\"\n",
    "\n",
    "\n",
    "%time total_context_counter = Counter([tuple(words[i-window:i]+words[i+1:i+window+1]) for i in xrange(window, len(words)-window)])\n",
    "freq_contexts = set([w for w,c in total_context_counter.items() if c >= CC_THR])\n",
    "print len(freq_words) *1. / len(total_context_counter), \"% contexts are retained\""
   ]
  },
  {
   "cell_type": "code",
   "execution_count": 179,
   "metadata": {
    "collapsed": true
   },
   "outputs": [],
   "source": [
    "class Hasher(object):\n",
    "    def __init__(self):\n",
    "        self.N = 0\n",
    "        self.data = {}\n",
    "    def hash(self,item):\n",
    "        if item not in self.data:\n",
    "            self.data[item] = self.N\n",
    "            self.N += 1\n",
    "        return self.data[item]"
   ]
  },
  {
   "cell_type": "code",
   "execution_count": 180,
   "metadata": {
    "collapsed": false
   },
   "outputs": [],
   "source": [
    "def extract_wc_pairs(words,  freq_words, freq_contexts, window = 3,):\n",
    "    wcpairs = []\n",
    "    wordhasher = Hasher()\n",
    "    contexthasher = Hasher()\n",
    "    for i in xrange(window, len(words)-window):\n",
    "        word, context = words[i], tuple(words[i-window:i]+words[i+1:i+window+1])\n",
    "        if (word in freq_words) and (context in freq_contexts):\n",
    "            hw, hc = wordhasher.hash(word), contexthasher.hash(context)\n",
    "            wcpairs.append( (hw, hc) )\n",
    "    return wordhasher, contexthasher, wcpairs"
   ]
  },
  {
   "cell_type": "code",
   "execution_count": 181,
   "metadata": {
    "collapsed": false
   },
   "outputs": [
    {
     "name": "stdout",
     "output_type": "stream",
     "text": [
      "CPU times: user 11.3 s, sys: 160 ms, total: 11.5 s\n",
      "Wall time: 11.3 s\n"
     ]
    }
   ],
   "source": [
    "%time wordhasher, contexthasher, wcpairs = extract_wc_pairs(words, freq_words, freq_contexts, window=window)"
   ]
  },
  {
   "cell_type": "code",
   "execution_count": 182,
   "metadata": {
    "collapsed": false
   },
   "outputs": [
    {
     "name": "stdout",
     "output_type": "stream",
     "text": [
      "CPU times: user 11.5 s, sys: 182 ms, total: 11.7 s\n",
      "Wall time: 11.7 s\n"
     ]
    }
   ],
   "source": [
    "%time whs, chs = zip(*wcpairs)\n",
    "whs, chs = np.asarray(whs), np.asarray(chs)\n",
    "Mshape = (wordhasher.N, contexthasher.N)"
   ]
  },
  {
   "cell_type": "code",
   "execution_count": 183,
   "metadata": {
    "collapsed": false
   },
   "outputs": [
    {
     "name": "stdout",
     "output_type": "stream",
     "text": [
      "CPU times: user 445 ms, sys: 37.6 ms, total: 483 ms\n",
      "Wall time: 397 ms\n",
      "CPU times: user 376 ms, sys: 782 µs, total: 377 ms\n",
      "Wall time: 377 ms\n",
      "CPU times: user 2.03 s, sys: 15.7 ms, total: 2.04 s\n",
      "Wall time: 2.02 s\n"
     ]
    }
   ],
   "source": [
    "%time wcounter = Counter(whs)\n",
    "%time ccounter = Counter(chs)\n",
    "D = len(wcpairs)\n",
    "%time data = np.array([D*1./wcounter[wh]/ccounter[ch]/nnegative for wh,ch in wcpairs])"
   ]
  },
  {
   "cell_type": "code",
   "execution_count": 184,
   "metadata": {
    "collapsed": false
   },
   "outputs": [
    {
     "name": "stdout",
     "output_type": "stream",
     "text": [
      "CPU times: user 8.87 ms, sys: 281 µs, total: 9.15 ms\n",
      "Wall time: 8.77 ms\n",
      "CPU times: user 96.5 ms, sys: 669 µs, total: 97.2 ms\n",
      "Wall time: 97.1 ms\n"
     ]
    },
    {
     "data": {
      "text/plain": [
       "(8371, 68197)"
      ]
     },
     "execution_count": 184,
     "metadata": {},
     "output_type": "execute_result"
    }
   ],
   "source": [
    "%time M = sparse.coo_matrix((data, (whs, chs)), shape = Mshape, dtype=np.float32)\n",
    "%time M = M.tocsr()\n",
    "M.data = np.log(M.data)##\n",
    "M[M<0.0] = 0.0\n",
    "M.shape"
   ]
  },
  {
   "cell_type": "code",
   "execution_count": 185,
   "metadata": {
    "collapsed": true
   },
   "outputs": [],
   "source": [
    "from sklearn.decomposition import TruncatedSVD\n",
    "svd = TruncatedSVD(n_components=100, )"
   ]
  },
  {
   "cell_type": "code",
   "execution_count": 186,
   "metadata": {
    "collapsed": false
   },
   "outputs": [
    {
     "name": "stdout",
     "output_type": "stream",
     "text": [
      "CPU times: user 1.81 s, sys: 78.1 ms, total: 1.89 s\n",
      "Wall time: 1.89 s\n"
     ]
    }
   ],
   "source": [
    "%time wvectors = svd.fit_transform(M)"
   ]
  },
  {
   "cell_type": "code",
   "execution_count": 187,
   "metadata": {
    "collapsed": true
   },
   "outputs": [],
   "source": [
    "from sklearn.preprocessing import normalize\n",
    "normalized_wvectors = normalize(wvectors, axis = 1)"
   ]
  },
  {
   "cell_type": "markdown",
   "metadata": {},
   "source": [
    "## check word-context matrix & word vectors"
   ]
  },
  {
   "cell_type": "code",
   "execution_count": 188,
   "metadata": {
    "collapsed": false
   },
   "outputs": [
    {
     "data": {
      "image/png": "[encoded data removed]",
      "text/plain": [
       "<matplotlib.figure.Figure at 0x7fa4a726de90>"
      ]
     },
     "metadata": {},
     "output_type": "display_data"
    }
   ],
   "source": [
    "_ = plt.boxplot(M.data)"
   ]
  },
  {
   "cell_type": "markdown",
   "metadata": {},
   "source": [
    "## save results"
   ]
  },
  {
   "cell_type": "code",
   "execution_count": 189,
   "metadata": {
    "collapsed": false
   },
   "outputs": [
    {
     "name": "stdout",
     "output_type": "stream",
     "text": [
      "CPU times: user 6.26 ms, sys: 444 µs, total: 6.71 ms\n",
      "Wall time: 5.97 ms\n",
      "CPU times: user 891 ms, sys: 60.1 ms, total: 951 ms\n",
      "Wall time: 951 ms\n"
     ]
    }
   ],
   "source": [
    "## inverse index\n",
    "%time h2w = dict([(v,k) for k,v in wordhasher.data.items()])\n",
    "%time h2c = dict([(v,k) for k,v in contexthasher.data.items()])"
   ]
  },
  {
   "cell_type": "code",
   "execution_count": 190,
   "metadata": {
    "collapsed": false
   },
   "outputs": [
    {
     "name": "stdout",
     "output_type": "stream",
     "text": [
      "CPU times: user 322 µs, sys: 4.27 ms, total: 4.59 ms\n",
      "Wall time: 4.55 ms\n",
      "CPU times: user 11.4 ms, sys: 950 µs, total: 12.3 ms\n",
      "Wall time: 12.1 ms\n",
      "CPU times: user 8.43 ms, sys: 593 µs, total: 9.03 ms\n",
      "Wall time: 9.05 ms\n"
     ]
    }
   ],
   "source": [
    "\n",
    "\n",
    "import h5py, cPickle\n",
    "\n",
    "h5f = h5py.File(\"data/word_vectors.h5\", \"w\")\n",
    "%time h5f.create_dataset(\"data\", data = wvectors)\n",
    "h5f.close()\n",
    "\n",
    "%time cPickle.dump(h2w, open(\"data/inverse_word_hash.pkl\", \"w\"))\n",
    "%time cPickle.dump(wordhasher.data, open(\"data/word_hash.pkl\", \"w\"))\n",
    "#%time cPickle.dump(h2c, open(\"data/inverse_context_hash.pkl\", \"w\"))"
   ]
  },
  {
   "cell_type": "markdown",
   "metadata": {},
   "source": [
    "## Evaluate Performance"
   ]
  },
  {
   "cell_type": "code",
   "execution_count": 191,
   "metadata": {
    "collapsed": true
   },
   "outputs": [],
   "source": [
    "import h5py, cPickle\n",
    "h5f = h5py.File(\"data/word_vectors.h5\", \"r\")\n",
    "wvectors = h5f[\"data\"][:]\n",
    "h5f.close()\n",
    "\n",
    "h2w = cPickle.load(open(\"data/inverse_word_hash.pkl\"))\n",
    "w2h = cPickle.load(open(\"data/word_hash.pkl\"))"
   ]
  },
  {
   "cell_type": "code",
   "execution_count": 192,
   "metadata": {
    "collapsed": true
   },
   "outputs": [],
   "source": [
    "## use flann to find knn\n",
    "import pyflann as pf\n",
    "from scipy import stats\n",
    "\n",
    "class NearestNeighbor(object):\n",
    "    def __init__(self, k = 5, algorithm=\"kdtree\", distance_type=\"euclidean\"):\n",
    "        pf.set_distance_type(distance_type)\n",
    "        self.flann = pf.FLANN()\n",
    "        self.k = k\n",
    "        self.algorithm = \"autotuned\"#algorithm\n",
    "        self.iterations = 100\n",
    "    def train(self, X):\n",
    "        self.X_ = X\n",
    "    def nearest(self, X):\n",
    "        min_index, dists = self.flann.nn(self.X_, X, self.k, \n",
    "                                         algorithm = self.algorithm, \n",
    "                                         iterations=self.iterations)\n",
    "        return min_index, dists"
   ]
  },
  {
   "cell_type": "markdown",
   "metadata": {},
   "source": [
    "### Nearest Neighbor"
   ]
  },
  {
   "cell_type": "code",
   "execution_count": 224,
   "metadata": {
    "collapsed": false
   },
   "outputs": [
    {
     "name": "stdout",
     "output_type": "stream",
     "text": [
      "CPU times: user 1min 15s, sys: 2.09 s, total: 1min 17s\n",
      "Wall time: 1min 17s\n",
      "['divine', 'albanians', 'performers', 'twelve', 'experimental']\n",
      "['periods', 'cooking', 'drinking', 'developer', 'compilers']\n",
      "['trinity', 'self', 'liver', 'playoffs', 'monitor']\n",
      "['london', 'paris', 'berlin', 'california', 'oregon']\n",
      "['blue', 'tanakh', 'surviving', 'infection', 'nuclear']\n",
      "['jews', 'soldiers', 'votes', 'arabs', 'cards']\n",
      "['manufacture', 'aftermath', 'exercise', 'coordination', 'plans']\n",
      "['soon', 'apparently', 'entirely', 'directly', 'essentially']\n",
      "['outbreak', 'turn', 'dissolution', 'passing', 'passage']\n",
      "['cold', 'korean', 'trojan', 'revolutionary', 'civil']\n"
     ]
    }
   ],
   "source": [
    "nn=NearestNeighbor()\n",
    "nn.train(wvectors)\n",
    "%time neighbors, dists =nn.nearest(wvectors)\n",
    "for row in neighbors[1860:1870, :]:\n",
    "    print [h2w[r] for r in row]"
   ]
  },
  {
   "cell_type": "code",
   "execution_count": 223,
   "metadata": {
    "collapsed": false
   },
   "outputs": [
    {
     "name": "stdout",
     "output_type": "stream",
     "text": [
      "CPU times: user 1min 19s, sys: 2.75 s, total: 1min 22s\n",
      "Wall time: 1min 21s\n",
      "['divine', 'indians', 'daleks', 'poor', 'lowlands']\n",
      "['editors', 'fruits', 'cooking', 'squares', 'lawyers']\n",
      "['trinity', 'alps', 'buddha', 'cell', 'eu']\n",
      "['london', 'berlin', 'paris', 'vienna', 'geneva']\n",
      "['blue', 'atlantic', 'southwestern', 'northeastern', 'southeastern']\n",
      "['jews', 'planets', 'dinosaurs', 'communists', 'canal']\n",
      "['aftermath', 'eyes', 'course', 'face', 'solving']\n",
      "['soon', 'even', 'barely', 'naturally', 'apparently']\n",
      "['outbreak', 'arrival', 'turn', 'passage', 'dissolution']\n",
      "['cold', 'anti', 'trojan', 'civil', 'korean']\n"
     ]
    }
   ],
   "source": [
    "nn=NearestNeighbor()\n",
    "nn.train(normalized_wvectors)\n",
    "%time neighbors, dists =nn.nearest(wvectors)\n",
    "for row in neighbors[1860:1870, :]:\n",
    "    print [h2w[r] for r in row]"
   ]
  },
  {
   "cell_type": "code",
   "execution_count": 200,
   "metadata": {
    "collapsed": false
   },
   "outputs": [
    {
     "data": {
      "text/plain": [
       "(-164.06434580654258,\n",
       " 149.53418664335788,\n",
       " -0.86203627523967263,\n",
       " 0.93082859368188209)"
      ]
     },
     "execution_count": 200,
     "metadata": {},
     "output_type": "execute_result"
    }
   ],
   "source": [
    "wvectors.min(), wvectors.max(), normalized_wvectors.min(), normalized_wvectors.max()"
   ]
  },
  {
   "cell_type": "code",
   "execution_count": 201,
   "metadata": {
    "collapsed": false
   },
   "outputs": [
    {
     "data": {
      "text/plain": [
       "(1.3434038308555481e-08, 36149.457381732056)"
      ]
     },
     "execution_count": 201,
     "metadata": {},
     "output_type": "execute_result"
    }
   ],
   "source": [
    "dists.min(), dists.max()"
   ]
  },
  {
   "cell_type": "markdown",
   "metadata": {},
   "source": [
    "### Clustering"
   ]
  },
  {
   "cell_type": "code",
   "execution_count": 202,
   "metadata": {
    "collapsed": false
   },
   "outputs": [
    {
     "name": "stdout",
     "output_type": "stream",
     "text": [
      "CPU times: user 1.49 s, sys: 3.88 ms, total: 1.49 s\n",
      "Wall time: 1.49 s\n"
     ]
    }
   ],
   "source": [
    "from sklearn.cluster import MiniBatchKMeans\n",
    "kmeans = MiniBatchKMeans(n_clusters=250, )\n",
    "%time labels = kmeans.fit_predict(normalized_wvectors)"
   ]
  },
  {
   "cell_type": "code",
   "execution_count": 203,
   "metadata": {
    "collapsed": false
   },
   "outputs": [
    {
     "data": {
      "text/plain": [
       "Counter({44: 173, 4: 149, 17: 144, 26: 140, 31: 132, 230: 118, 225: 111, 6: 108, 170: 106, 235: 106, 137: 105, 20: 96, 249: 96, 178: 95, 217: 94, 106: 93, 48: 92, 152: 92, 205: 86, 62: 85, 71: 80, 164: 76, 197: 75, 25: 72, 30: 71, 40: 71, 183: 70, 0: 66, 103: 66, 96: 63, 112: 62, 29: 61, 165: 60, 63: 59, 5: 58, 65: 58, 181: 58, 247: 57, 49: 54, 80: 54, 189: 54, 202: 54, 168: 53, 210: 53, 213: 52, 124: 51, 77: 50, 203: 50, 199: 49, 81: 48, 238: 48, 33: 47, 52: 47, 162: 47, 198: 47, 22: 46, 47: 46, 129: 46, 132: 46, 149: 46, 54: 45, 24: 44, 41: 44, 3: 43, 13: 43, 173: 43, 226: 43, 67: 42, 192: 42, 240: 42, 241: 42, 58: 41, 115: 41, 127: 41, 169: 41, 56: 40, 113: 40, 148: 40, 184: 40, 27: 39, 68: 38, 83: 38, 139: 38, 179: 38, 218: 38, 231: 38, 15: 37, 109: 37, 172: 37, 7: 35, 74: 35, 23: 34, 37: 34, 91: 34, 216: 34, 246: 34, 36: 33, 185: 33, 215: 33, 78: 32, 110: 32, 144: 32, 204: 32, 45: 30, 46: 30, 72: 30, 87: 30, 145: 30, 150: 30, 32: 29, 180: 29, 209: 29, 243: 29, 39: 28, 114: 28, 193: 28, 212: 28, 2: 27, 122: 27, 186: 27, 14: 26, 19: 26, 50: 26, 116: 26, 142: 26, 143: 26, 1: 25, 70: 25, 95: 25, 244: 25, 38: 24, 84: 24, 99: 24, 157: 24, 21: 23, 66: 23, 69: 23, 176: 23, 182: 23, 18: 22, 51: 22, 118: 22, 154: 22, 167: 22, 101: 21, 141: 21, 147: 21, 151: 21, 10: 20, 105: 20, 158: 20, 175: 20, 211: 20, 224: 20, 248: 20, 8: 19, 9: 19, 11: 19, 53: 19, 55: 19, 60: 19, 88: 19, 92: 19, 120: 19, 234: 19, 34: 18, 61: 18, 82: 18, 121: 18, 195: 17, 221: 17, 228: 17, 76: 16, 90: 16, 140: 16, 201: 16, 207: 16, 229: 16, 232: 16, 73: 15, 86: 15, 117: 15, 153: 15, 125: 14, 126: 14, 136: 14, 156: 14, 161: 14, 166: 14, 57: 13, 130: 13, 159: 13, 196: 13, 206: 13, 75: 12, 107: 12, 155: 12, 191: 12, 219: 12, 59: 11, 242: 11, 43: 10, 79: 10, 119: 10, 128: 10, 135: 10, 222: 10, 146: 8, 160: 8, 233: 8, 104: 7, 108: 7, 131: 7, 227: 7, 12: 6, 97: 6, 102: 6, 134: 6, 171: 6, 188: 6, 194: 6, 223: 6, 187: 5, 239: 5, 85: 4, 100: 4, 123: 4, 133: 4, 200: 4, 214: 4, 94: 3, 98: 3, 138: 3, 163: 3, 208: 3, 28: 2, 35: 2, 93: 2, 174: 2, 236: 2, 237: 2, 245: 2, 16: 1, 42: 1, 64: 1, 89: 1, 111: 1, 177: 1, 190: 1, 220: 1})"
      ]
     },
     "execution_count": 203,
     "metadata": {},
     "output_type": "execute_result"
    }
   ],
   "source": [
    "Counter(labels)"
   ]
  },
  {
   "cell_type": "code",
   "execution_count": 207,
   "metadata": {
    "collapsed": false
   },
   "outputs": [
    {
     "name": "stdout",
     "output_type": "stream",
     "text": [
      "science\n",
      "philosophy\n",
      "chemistry\n",
      "biology\n",
      "anatomy\n",
      "mathematics\n",
      "literature\n",
      "physics\n",
      "physiology\n",
      "linguistics\n",
      "ecology\n",
      "genetics\n"
     ]
    }
   ],
   "source": [
    "ic = 155\n",
    "for i in np.where(labels==ic)[0][:50]:\n",
    "    print h2w[i]"
   ]
  },
  {
   "cell_type": "code",
   "execution_count": 225,
   "metadata": {
    "collapsed": false
   },
   "outputs": [],
   "source": [
    "ifrance, iparis, iuk, ilondon = w2h[\"king\"], w2h[\"man\"], w2h[\"queen\"], w2h[\"woman\"]"
   ]
  },
  {
   "cell_type": "code",
   "execution_count": 226,
   "metadata": {
    "collapsed": false
   },
   "outputs": [],
   "source": [
    "v = wvectors[ifrance] - wvectors[iparis] + wvectors[iuk]\n",
    "u = wvectors[ilondon]"
   ]
  },
  {
   "cell_type": "code",
   "execution_count": 227,
   "metadata": {
    "collapsed": false
   },
   "outputs": [
    {
     "data": {
      "text/plain": [
       "64.003799942148163"
      ]
     },
     "execution_count": 227,
     "metadata": {},
     "output_type": "execute_result"
    }
   ],
   "source": [
    "np.sqrt(np.sum((u-v)**2))"
   ]
  },
  {
   "cell_type": "code",
   "execution_count": 228,
   "metadata": {
    "collapsed": false
   },
   "outputs": [
    {
     "data": {
      "text/plain": [
       "array([   0.        ,   68.35350855,  163.82621343,  259.84915276,\n",
       "        260.43805268])"
      ]
     },
     "execution_count": 228,
     "metadata": {},
     "output_type": "execute_result"
    }
   ],
   "source": [
    "dists[ilondon, :]"
   ]
  },
  {
   "cell_type": "code",
   "execution_count": 232,
   "metadata": {
    "collapsed": false
   },
   "outputs": [
    {
     "name": "stdout",
     "output_type": "stream",
     "text": [
      "['woman', 'player', 'child', 'physician', 'soldier']\n"
     ]
    }
   ],
   "source": [
    "for row in neighbors[ilondon:ilondon+1, :]:\n",
    "    print [h2w[r] for r in row]"
   ]
  }
 ],
 "metadata": {
  "kernelspec": {
   "display_name": "Python 2",
   "language": "python",
   "name": "python2"
  },
  "language_info": {
   "codemirror_mode": {
    "name": "ipython",
    "version": 2
   },
   "file_extension": ".py",
   "mimetype": "text/x-python",
   "name": "python",
   "nbconvert_exporter": "python",
   "pygments_lexer": "ipython2",
   "version": "2.7.6"
  }
 },
 "nbformat": 4,
 "nbformat_minor": 0
}
