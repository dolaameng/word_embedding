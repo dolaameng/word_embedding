{
 "cells": [
  {
   "cell_type": "markdown",
   "metadata": {},
   "source": [
    "## Embedding Word into Vectors\n",
    "- Article that generates the idea: [Neural Word Embedding as Implicit Matrix Factorization](http://u.cs.biu.ac.il/~nlp/wp-content/uploads/Neural-Word-Embeddings-as-Implicit-Matrix-Factorization-NIPS-2014.pdf)\n",
    "- Text8 used by google's word2vec [text8 data](http://mattmahoney.net/dc/text8.zip)\n",
    "- [wordsim353](http://www.cs.technion.ac.il/~gabr/resources/data/wordsim353/)\n",
    "- [MEN Test collection](http://clic.cimec.unitn.it/~elia.bruni/MEN)\n",
    "\n",
    "## Experimental Observations"
   ]
  },
  {
   "cell_type": "code",
   "execution_count": 1,
   "metadata": {
    "collapsed": false
   },
   "outputs": [
    {
     "name": "stdout",
     "output_type": "stream",
     "text": [
      "CPU times: user 2.85 s, sys: 307 ms, total: 3.16 s\n",
      "Wall time: 3.16 s\n",
      "17005207\n"
     ]
    }
   ],
   "source": [
    "## load text data\n",
    "import re\n",
    "%time corpus = re.findall(r\"\\w+\", open(\"data/text8\").read())\n",
    "print len(corpus)"
   ]
  },
  {
   "cell_type": "code",
   "execution_count": null,
   "metadata": {
    "collapsed": true
   },
   "outputs": [],
   "source": [
    "class MFWordEmbedder(object):\n",
    "    \"\"\"Matrix Factorization Word Embedder\n",
    "    \"\"\"\n",
    "    def __init__(self, min_wf, min_cf, wlen, nneg):\n",
    "        \"\"\"\n",
    "        Parameters: \n",
    "        min_wf - minimum number of frequence for a word to be modelled\n",
    "        min_cf - minimum number of frequence for a context (word window) to be modelled\n",
    "        wlen - int or list, length(s) for word seq for context\n",
    "        nneg - int number of negative sample, plays as the offset in the matrix factorization here\n",
    "        \"\"\"\n",
    "        pass"
   ]
  }
 ],
 "metadata": {
  "kernelspec": {
   "display_name": "Python 2",
   "language": "python",
   "name": "python2"
  },
  "language_info": {
   "codemirror_mode": {
    "name": "ipython",
    "version": 2
   },
   "file_extension": ".py",
   "mimetype": "text/x-python",
   "name": "python",
   "nbconvert_exporter": "python",
   "pygments_lexer": "ipython2",
   "version": "2.7.6"
  }
 },
 "nbformat": 4,
 "nbformat_minor": 0
}
