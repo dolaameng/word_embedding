{
 "cells": [
  {
   "cell_type": "markdown",
   "metadata": {},
   "source": [
    "## Generate Word Vectors\n",
    "- [Neural Word Embedding as Implicit Matrix Factorization](http://u.cs.biu.ac.il/~nlp/wp-content/uploads/Neural-Word-Embeddings-as-Implicit-Matrix-Factorization-NIPS-2014.pdf)\n",
    "- [text8 data](http://mattmahoney.net/dc/text8.zip)\n",
    "- [wordsim353](http://www.cs.technion.ac.il/~gabr/resources/data/wordsim353/)\n",
    "- [MEN Test collection](http://clic.cimec.unitn.it/~elia.bruni/MEN)"
   ]
  },
  {
   "cell_type": "code",
   "execution_count": 1,
   "metadata": {
    "collapsed": true
   },
   "outputs": [],
   "source": [
    "import numpy as np\n",
    "import re\n",
    "from scipy import sparse\n",
    "import joblib\n",
    "from collections import Counter\n",
    "import matplotlib.pyplot as plt"
   ]
  },
  {
   "cell_type": "code",
   "execution_count": 2,
   "metadata": {
    "collapsed": true
   },
   "outputs": [],
   "source": [
    "%matplotlib inline"
   ]
  },
  {
   "cell_type": "code",
   "execution_count": 3,
   "metadata": {
    "collapsed": true
   },
   "outputs": [],
   "source": [
    "## parameters\n",
    "WC_THR = 150\n",
    "CC_THR = 6\n",
    "window = 2\n",
    "nnegative = 1."
   ]
  },
  {
   "cell_type": "code",
   "execution_count": 4,
   "metadata": {
    "collapsed": false
   },
   "outputs": [
    {
     "name": "stdout",
     "output_type": "stream",
     "text": [
      "CPU times: user 3.22 s, sys: 282 ms, total: 3.5 s\n",
      "Wall time: 3.51 s\n",
      "17005207\n"
     ]
    }
   ],
   "source": [
    "corpus = open(\"data/text8\").read()\n",
    "pat = re.compile(\"\\w+\")\n",
    "%time words = pat.findall(corpus)\n",
    "print len(words)"
   ]
  },
  {
   "cell_type": "code",
   "execution_count": 5,
   "metadata": {
    "collapsed": false
   },
   "outputs": [
    {
     "name": "stdout",
     "output_type": "stream",
     "text": [
      "CPU times: user 4.32 s, sys: 124 ms, total: 4.45 s\n",
      "Wall time: 4.43 s\n",
      "0.0348586195215 % words are retained\n",
      "CPU times: user 19.1 s, sys: 1.4 s, total: 20.5 s\n",
      "Wall time: 20.5 s\n",
      "0.000595954339486 % contexts are retained\n"
     ]
    }
   ],
   "source": [
    "%time total_word_counter = Counter(words)\n",
    "\n",
    "freq_words = set([w for w,c in total_word_counter.items() if c >= WC_THR])\n",
    "print len(freq_words) *1. / len(total_word_counter), \"% words are retained\"\n",
    "\n",
    "\n",
    "%time total_context_counter = Counter([tuple(words[i-window:i]+words[i+1:i+window+1]) for i in xrange(window, len(words)-window)])\n",
    "freq_contexts = set([w for w,c in total_context_counter.items() if c >= CC_THR])\n",
    "print len(freq_words) *1. / len(total_context_counter), \"% contexts are retained\""
   ]
  },
  {
   "cell_type": "code",
   "execution_count": 6,
   "metadata": {
    "collapsed": true
   },
   "outputs": [],
   "source": [
    "class Hasher(object):\n",
    "    def __init__(self):\n",
    "        self.N = 0\n",
    "        self.data = {}\n",
    "    def hash(self,item):\n",
    "        if item not in self.data:\n",
    "            self.data[item] = self.N\n",
    "            self.N += 1\n",
    "        return self.data[item]"
   ]
  },
  {
   "cell_type": "code",
   "execution_count": 7,
   "metadata": {
    "collapsed": false
   },
   "outputs": [],
   "source": [
    "def extract_wc_pairs(words,  freq_words, freq_contexts, window = 3,):\n",
    "    wcpairs = []\n",
    "    wordhasher = Hasher()\n",
    "    contexthasher = Hasher()\n",
    "    for i in xrange(window, len(words)-window):\n",
    "        word, context = words[i], tuple(words[i-window:i]+words[i+1:i+window+1])\n",
    "        if (word in freq_words) and (context in freq_contexts):\n",
    "            hw, hc = wordhasher.hash(word), contexthasher.hash(context)\n",
    "            wcpairs.append( (hw, hc) )\n",
    "    return wordhasher, contexthasher, wcpairs"
   ]
  },
  {
   "cell_type": "code",
   "execution_count": 8,
   "metadata": {
    "collapsed": false
   },
   "outputs": [
    {
     "name": "stdout",
     "output_type": "stream",
     "text": [
      "CPU times: user 11.6 s, sys: 423 ms, total: 12 s\n",
      "Wall time: 11.9 s\n"
     ]
    }
   ],
   "source": [
    "%time wordhasher, contexthasher, wcpairs = extract_wc_pairs(words, freq_words, freq_contexts, window=window)"
   ]
  },
  {
   "cell_type": "code",
   "execution_count": 9,
   "metadata": {
    "collapsed": false
   },
   "outputs": [
    {
     "name": "stdout",
     "output_type": "stream",
     "text": [
      "CPU times: user 253 ms, sys: 52 ms, total: 305 ms\n",
      "Wall time: 306 ms\n"
     ]
    }
   ],
   "source": [
    "%time whs, chs = zip(*wcpairs)\n",
    "whs, chs = np.asarray(whs), np.asarray(chs)\n",
    "Mshape = (wordhasher.N, contexthasher.N)"
   ]
  },
  {
   "cell_type": "code",
   "execution_count": 10,
   "metadata": {
    "collapsed": false
   },
   "outputs": [
    {
     "name": "stdout",
     "output_type": "stream",
     "text": [
      "CPU times: user 437 ms, sys: 24.4 ms, total: 461 ms\n",
      "Wall time: 415 ms\n",
      "CPU times: user 412 ms, sys: 6.75 ms, total: 419 ms\n",
      "Wall time: 407 ms\n",
      "CPU times: user 1.05 s, sys: 6.69 ms, total: 1.06 s\n",
      "Wall time: 1.06 s\n"
     ]
    }
   ],
   "source": [
    "%time wcounter = Counter(whs)\n",
    "%time ccounter = Counter(chs)\n",
    "D = len(wcpairs)\n",
    "%time data = np.array([D*1./wcounter[wh]/ccounter[ch]/nnegative for wh,ch in wcpairs])"
   ]
  },
  {
   "cell_type": "code",
   "execution_count": 11,
   "metadata": {
    "collapsed": false
   },
   "outputs": [
    {
     "name": "stdout",
     "output_type": "stream",
     "text": [
      "CPU times: user 9.05 ms, sys: 1.83 ms, total: 10.9 ms\n",
      "Wall time: 10.5 ms\n",
      "CPU times: user 94.7 ms, sys: 5.45 ms, total: 100 ms\n",
      "Wall time: 100 ms\n"
     ]
    },
    {
     "data": {
      "text/plain": [
       "(8371, 68197)"
      ]
     },
     "execution_count": 11,
     "metadata": {},
     "output_type": "execute_result"
    }
   ],
   "source": [
    "%time M = sparse.coo_matrix((data, (whs, chs)), shape = Mshape, dtype=np.float32)\n",
    "%time M = M.tocsr()\n",
    "M.data = np.log(M.data)##\n",
    "M[M<0.0] = 0.0\n",
    "M.shape"
   ]
  },
  {
   "cell_type": "code",
   "execution_count": 12,
   "metadata": {
    "collapsed": true
   },
   "outputs": [],
   "source": [
    "from sklearn.decomposition import TruncatedSVD\n",
    "svd = TruncatedSVD(n_components=100, )"
   ]
  },
  {
   "cell_type": "code",
   "execution_count": 13,
   "metadata": {
    "collapsed": false
   },
   "outputs": [
    {
     "name": "stdout",
     "output_type": "stream",
     "text": [
      "CPU times: user 15.8 s, sys: 7.44 s, total: 23.2 s\n",
      "Wall time: 1.82 s\n"
     ]
    }
   ],
   "source": [
    "%time wvectors = svd.fit_transform(M)"
   ]
  },
  {
   "cell_type": "code",
   "execution_count": 14,
   "metadata": {
    "collapsed": true
   },
   "outputs": [],
   "source": [
    "from sklearn.preprocessing import normalize\n",
    "normalized_wvectors = normalize(wvectors, axis = 1)"
   ]
  },
  {
   "cell_type": "markdown",
   "metadata": {},
   "source": [
    "## check word-context matrix & word vectors"
   ]
  },
  {
   "cell_type": "code",
   "execution_count": 15,
   "metadata": {
    "collapsed": false
   },
   "outputs": [
    {
     "data": {
      "image/png": "[encoded data removed]",
      "text/plain": [
       "<matplotlib.figure.Figure at 0x7fb30be33c50>"
      ]
     },
     "metadata": {},
     "output_type": "display_data"
    }
   ],
   "source": [
    "_ = plt.boxplot(M.data)"
   ]
  },
  {
   "cell_type": "markdown",
   "metadata": {},
   "source": [
    "## save results"
   ]
  },
  {
   "cell_type": "code",
   "execution_count": 16,
   "metadata": {
    "collapsed": false
   },
   "outputs": [
    {
     "name": "stdout",
     "output_type": "stream",
     "text": [
      "CPU times: user 17.8 ms, sys: 14.5 ms, total: 32.2 ms\n",
      "Wall time: 10.6 ms\n",
      "CPU times: user 66.5 ms, sys: 43.3 ms, total: 110 ms\n",
      "Wall time: 36.6 ms\n"
     ]
    }
   ],
   "source": [
    "## inverse index\n",
    "%time h2w = dict([(v,k) for k,v in wordhasher.data.items()])\n",
    "%time h2c = dict([(v,k) for k,v in contexthasher.data.items()])"
   ]
  },
  {
   "cell_type": "code",
   "execution_count": 17,
   "metadata": {
    "collapsed": false
   },
   "outputs": [
    {
     "name": "stdout",
     "output_type": "stream",
     "text": [
      "CPU times: user 235 µs, sys: 3.96 ms, total: 4.2 ms\n",
      "Wall time: 4.21 ms\n",
      "CPU times: user 8.89 ms, sys: 517 µs, total: 9.4 ms\n",
      "Wall time: 9.42 ms\n",
      "CPU times: user 7.42 ms, sys: 319 µs, total: 7.73 ms\n",
      "Wall time: 7.76 ms\n"
     ]
    }
   ],
   "source": [
    "\n",
    "\n",
    "import h5py, cPickle\n",
    "\n",
    "h5f = h5py.File(\"data/word_vectors.h5\", \"w\")\n",
    "%time h5f.create_dataset(\"data\", data = wvectors)\n",
    "h5f.close()\n",
    "\n",
    "%time cPickle.dump(h2w, open(\"data/inverse_word_hash.pkl\", \"w\"))\n",
    "%time cPickle.dump(wordhasher.data, open(\"data/word_hash.pkl\", \"w\"))\n",
    "#%time cPickle.dump(h2c, open(\"data/inverse_context_hash.pkl\", \"w\"))"
   ]
  },
  {
   "cell_type": "markdown",
   "metadata": {},
   "source": [
    "## Evaluate Performance"
   ]
  },
  {
   "cell_type": "code",
   "execution_count": 18,
   "metadata": {
    "collapsed": true
   },
   "outputs": [],
   "source": [
    "import h5py, cPickle\n",
    "h5f = h5py.File(\"data/word_vectors.h5\", \"r\")\n",
    "wvectors = h5f[\"data\"][:]\n",
    "h5f.close()\n",
    "\n",
    "h2w = cPickle.load(open(\"data/inverse_word_hash.pkl\"))\n",
    "w2h = cPickle.load(open(\"data/word_hash.pkl\"))"
   ]
  },
  {
   "cell_type": "code",
   "execution_count": 19,
   "metadata": {
    "collapsed": true
   },
   "outputs": [],
   "source": [
    "## use flann to find knn\n",
    "import pyflann as pf\n",
    "from scipy import stats\n",
    "\n",
    "class NearestNeighbor(object):\n",
    "    def __init__(self, k = 5, algorithm=\"kdtree\", distance_type=\"euclidean\"):\n",
    "        pf.set_distance_type(distance_type)\n",
    "        self.flann = pf.FLANN()\n",
    "        self.k = k\n",
    "        self.algorithm = \"autotuned\"#algorithm\n",
    "        self.iterations = 100\n",
    "    def train(self, X):\n",
    "        self.X_ = X\n",
    "    def nearest(self, X):\n",
    "        min_index, dists = self.flann.nn(self.X_, X, self.k, \n",
    "                                         algorithm = self.algorithm, \n",
    "                                         iterations=self.iterations)\n",
    "        return min_index, dists"
   ]
  },
  {
   "cell_type": "markdown",
   "metadata": {},
   "source": [
    "### Nearest Neighbor"
   ]
  },
  {
   "cell_type": "code",
   "execution_count": 20,
   "metadata": {
    "collapsed": false
   },
   "outputs": [
    {
     "name": "stdout",
     "output_type": "stream",
     "text": [
      "CPU times: user 1min 14s, sys: 2.47 s, total: 1min 16s\n",
      "Wall time: 1min 16s\n",
      "['divine', 'ionic', 'soup', 'farmer', 'twelve']\n",
      "['periods', 'cooking', 'magazines', 'excess', 'digits']\n",
      "['trinity', 'underworld', 'gospels', 'enlightenment', 'fluid']\n",
      "['london', 'paris', 'berlin', 'vienna', 'chicago']\n",
      "['blue', 'microwave', 'infrared', 'rural', 'gold']\n",
      "['jews', 'greeks', 'monarchy', 'romans', 'children']\n",
      "['manufacture', 'wake', 'exercise', 'coordination', 'delivery']\n",
      "['soon', 'hardly', 'certainly', 'arguably', 'rather']\n",
      "['outbreak', 'turn', 'dissolution', 'passage', 'completion']\n",
      "['cold', 'trojan', 'korean', 'kosovo', 'cultural']\n"
     ]
    }
   ],
   "source": [
    "nn=NearestNeighbor()\n",
    "nn.train(wvectors)\n",
    "%time neighbors, dists =nn.nearest(wvectors)\n",
    "for row in neighbors[1860:1870, :]:\n",
    "    print [h2w[r] for r in row]"
   ]
  },
  {
   "cell_type": "code",
   "execution_count": 21,
   "metadata": {
    "collapsed": false
   },
   "outputs": [
    {
     "name": "stdout",
     "output_type": "stream",
     "text": [
      "CPU times: user 1min 17s, sys: 2.69 s, total: 1min 20s\n",
      "Wall time: 1min 19s\n",
      "['divine', 'poor', 'blind', 'apostles', 'liver']\n",
      "['periods', 'fruits', 'faces', 'wars', 'lords']\n",
      "['trinity', 'liver', 'alps', 'gospels', 'chromosomes']\n",
      "['london', 'berlin', 'paris', 'moscow', 'vienna']\n",
      "['blue', 'microwave', 'northeastern', 'southwestern', 'southern']\n",
      "['jews', 'scientists', 'volunteers', 'messages', 'shares']\n",
      "['manufacture', 'wake', 'aftermath', 'eyes', 'course']\n",
      "['soon', 'even', 'rapidly', 'barely', 'hardly']\n",
      "['outbreak', 'arrival', 'turn', 'dissolution', 'completion']\n",
      "['cold', 'anti', 'trojan', 'civil', 'korean']\n"
     ]
    }
   ],
   "source": [
    "nn=NearestNeighbor()\n",
    "nn.train(normalized_wvectors)\n",
    "%time neighbors, dists =nn.nearest(wvectors)\n",
    "for row in neighbors[1860:1870, :]:\n",
    "    print [h2w[r] for r in row]"
   ]
  },
  {
   "cell_type": "code",
   "execution_count": 22,
   "metadata": {
    "collapsed": false
   },
   "outputs": [
    {
     "data": {
      "text/plain": [
       "(-164.06361974045404,\n",
       " 149.53460156414531,\n",
       " -0.86207081908404937,\n",
       " 0.93008508308530169)"
      ]
     },
     "execution_count": 22,
     "metadata": {},
     "output_type": "execute_result"
    }
   ],
   "source": [
    "wvectors.min(), wvectors.max(), normalized_wvectors.min(), normalized_wvectors.max()"
   ]
  },
  {
   "cell_type": "code",
   "execution_count": 23,
   "metadata": {
    "collapsed": false
   },
   "outputs": [
    {
     "data": {
      "text/plain": [
       "(1.7628386362338768e-11, 35977.181700357425)"
      ]
     },
     "execution_count": 23,
     "metadata": {},
     "output_type": "execute_result"
    }
   ],
   "source": [
    "dists.min(), dists.max()"
   ]
  },
  {
   "cell_type": "markdown",
   "metadata": {},
   "source": [
    "### Clustering"
   ]
  },
  {
   "cell_type": "code",
   "execution_count": 24,
   "metadata": {
    "collapsed": false
   },
   "outputs": [
    {
     "name": "stdout",
     "output_type": "stream",
     "text": [
      "CPU times: user 6.37 s, sys: 6.5 s, total: 12.9 s\n",
      "Wall time: 1.57 s\n"
     ]
    }
   ],
   "source": [
    "from sklearn.cluster import MiniBatchKMeans\n",
    "kmeans = MiniBatchKMeans(n_clusters=250, )\n",
    "%time labels = kmeans.fit_predict(normalized_wvectors)"
   ]
  },
  {
   "cell_type": "code",
   "execution_count": 25,
   "metadata": {
    "collapsed": false
   },
   "outputs": [
    {
     "data": {
      "text/plain": [
       "Counter({187: 156, 24: 137, 236: 130, 240: 122, 167: 120, 40: 116, 69: 111, 7: 109, 70: 106, 21: 105, 25: 100, 4: 98, 179: 98, 17: 96, 227: 96, 34: 92, 42: 92, 224: 91, 35: 88, 58: 85, 38: 83, 176: 77, 200: 77, 213: 77, 47: 75, 56: 75, 153: 75, 237: 75, 172: 73, 68: 71, 189: 71, 182: 69, 246: 69, 218: 68, 44: 67, 36: 64, 160: 62, 211: 60, 220: 59, 77: 58, 170: 58, 190: 58, 1: 57, 6: 57, 194: 57, 16: 55, 214: 55, 33: 54, 131: 54, 151: 54, 148: 53, 154: 53, 204: 53, 248: 52, 8: 50, 20: 50, 57: 50, 76: 50, 5: 49, 129: 48, 235: 48, 41: 47, 163: 47, 118: 46, 209: 46, 37: 45, 201: 45, 85: 44, 196: 44, 239: 44, 232: 43, 61: 42, 158: 42, 0: 41, 137: 41, 231: 41, 73: 40, 177: 40, 83: 39, 165: 39, 221: 39, 241: 39, 87: 38, 100: 38, 117: 37, 135: 37, 226: 37, 51: 36, 103: 36, 141: 36, 208: 36, 18: 35, 80: 35, 175: 35, 245: 35, 39: 34, 147: 34, 222: 34, 12: 33, 64: 33, 89: 33, 105: 33, 162: 33, 65: 32, 238: 32, 186: 31, 107: 30, 115: 30, 164: 30, 52: 29, 143: 29, 185: 29, 210: 29, 223: 29, 249: 29, 67: 28, 93: 28, 202: 28, 106: 27, 116: 27, 139: 27, 178: 27, 29: 26, 82: 25, 108: 25, 124: 25, 157: 25, 171: 25, 188: 25, 48: 24, 102: 24, 128: 24, 156: 24, 9: 23, 49: 23, 111: 23, 150: 23, 152: 23, 122: 22, 132: 22, 71: 21, 81: 21, 97: 21, 101: 21, 173: 21, 242: 21, 247: 21, 3: 20, 180: 20, 219: 20, 243: 20, 2: 19, 46: 19, 74: 19, 244: 19, 32: 18, 92: 18, 123: 18, 191: 18, 159: 17, 183: 17, 99: 16, 112: 16, 133: 16, 217: 16, 27: 15, 125: 15, 174: 15, 233: 15, 43: 14, 59: 14, 168: 14, 181: 14, 30: 13, 54: 13, 55: 13, 75: 13, 127: 13, 199: 13, 15: 12, 28: 12, 45: 12, 60: 12, 121: 12, 126: 12, 134: 12, 119: 11, 142: 11, 166: 11, 229: 11, 19: 10, 88: 10, 95: 10, 234: 10, 66: 9, 72: 9, 144: 9, 184: 9, 203: 9, 207: 9, 10: 8, 63: 8, 79: 8, 98: 8, 198: 8, 230: 8, 53: 7, 90: 7, 146: 7, 215: 7, 11: 6, 91: 6, 130: 6, 138: 6, 155: 6, 94: 5, 96: 5, 120: 5, 136: 5, 193: 5, 13: 4, 26: 4, 86: 4, 140: 4, 169: 4, 78: 3, 84: 3, 113: 3, 149: 3, 192: 3, 197: 3, 22: 2, 23: 2, 31: 2, 110: 2, 114: 2, 145: 2, 161: 2, 195: 2, 205: 2, 206: 2, 225: 2, 228: 2, 14: 1, 50: 1, 62: 1, 104: 1, 109: 1, 212: 1, 216: 1})"
      ]
     },
     "execution_count": 25,
     "metadata": {},
     "output_type": "execute_result"
    }
   ],
   "source": [
    "Counter(labels)"
   ]
  },
  {
   "cell_type": "code",
   "execution_count": 26,
   "metadata": {
    "collapsed": false
   },
   "outputs": [
    {
     "name": "stdout",
     "output_type": "stream",
     "text": [
      "montreal\n",
      "detroit\n",
      "calgary\n",
      "dayton\n",
      "denver\n",
      "charlotte\n"
     ]
    }
   ],
   "source": [
    "ic = 155\n",
    "for i in np.where(labels==ic)[0][:50]:\n",
    "    print h2w[i]"
   ]
  },
  {
   "cell_type": "code",
   "execution_count": 27,
   "metadata": {
    "collapsed": false
   },
   "outputs": [],
   "source": [
    "ifrance, iparis, iuk, ilondon = w2h[\"king\"], w2h[\"man\"], w2h[\"queen\"], w2h[\"woman\"]"
   ]
  },
  {
   "cell_type": "code",
   "execution_count": 28,
   "metadata": {
    "collapsed": false
   },
   "outputs": [],
   "source": [
    "v = wvectors[ifrance] - wvectors[iparis] + wvectors[iuk]\n",
    "u = wvectors[ilondon]"
   ]
  },
  {
   "cell_type": "code",
   "execution_count": 31,
   "metadata": {
    "collapsed": true
   },
   "outputs": [],
   "source": [
    "v = normalized_wvectors[ifrance] - normalized_wvectors[iparis] + normalized_wvectors[iuk]\n",
    "u = normalized_wvectors[ilondon]"
   ]
  },
  {
   "cell_type": "code",
   "execution_count": 32,
   "metadata": {
    "collapsed": false
   },
   "outputs": [
    {
     "data": {
      "text/plain": [
       "2.3405178365044135"
      ]
     },
     "execution_count": 32,
     "metadata": {},
     "output_type": "execute_result"
    }
   ],
   "source": [
    "np.sqrt(np.sum((u-v)**2))"
   ]
  },
  {
   "cell_type": "code",
   "execution_count": 33,
   "metadata": {
    "collapsed": false
   },
   "outputs": [
    {
     "data": {
      "text/plain": [
       "array([ 317.08672123,  319.21422333,  319.36409847,  321.88819338,\n",
       "        322.26675642])"
      ]
     },
     "execution_count": 33,
     "metadata": {},
     "output_type": "execute_result"
    }
   ],
   "source": [
    "dists[ilondon, :]"
   ]
  },
  {
   "cell_type": "code",
   "execution_count": 34,
   "metadata": {
    "collapsed": false
   },
   "outputs": [
    {
     "name": "stdout",
     "output_type": "stream",
     "text": [
      "['woman', 'man', 'person', 'player', 'circular']\n"
     ]
    }
   ],
   "source": [
    "for row in neighbors[ilondon:ilondon+1, :]:\n",
    "    print [h2w[r] for r in row]"
   ]
  },
  {
   "cell_type": "markdown",
   "metadata": {},
   "source": [
    "##Observations\n",
    "1. for the matrix factorization approach to work, filtering out low-freq words (and even contexts) is important, as otherwise the factorization will come up with a near-zero solution"
   ]
  },
  {
   "cell_type": "code",
   "execution_count": null,
   "metadata": {
    "collapsed": true
   },
   "outputs": [],
   "source": []
  }
 ],
 "metadata": {
  "kernelspec": {
   "display_name": "Python 2",
   "language": "python",
   "name": "python2"
  },
  "language_info": {
   "codemirror_mode": {
    "name": "ipython",
    "version": 2
   },
   "file_extension": ".py",
   "mimetype": "text/x-python",
   "name": "python",
   "nbconvert_exporter": "python",
   "pygments_lexer": "ipython2",
   "version": "2.7.6"
  }
 },
 "nbformat": 4,
 "nbformat_minor": 0
}
